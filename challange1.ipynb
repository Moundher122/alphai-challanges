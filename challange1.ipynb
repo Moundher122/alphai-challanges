{
 "cells": [
  {
   "cell_type": "code",
   "execution_count": 34,
   "metadata": {},
   "outputs": [],
   "source": [
    "import pandas as pd\n",
    "import numpy as np\n",
    "import matplotlib.pyplot as plt\n",
    "import seaborn as sns"
   ]
  },
  {
   "cell_type": "code",
   "execution_count": 35,
   "metadata": {},
   "outputs": [
    {
     "data": {
      "text/html": [
       "<div>\n",
       "<style scoped>\n",
       "    .dataframe tbody tr th:only-of-type {\n",
       "        vertical-align: middle;\n",
       "    }\n",
       "\n",
       "    .dataframe tbody tr th {\n",
       "        vertical-align: top;\n",
       "    }\n",
       "\n",
       "    .dataframe thead th {\n",
       "        text-align: right;\n",
       "    }\n",
       "</style>\n",
       "<table border=\"1\" class=\"dataframe\">\n",
       "  <thead>\n",
       "    <tr style=\"text-align: right;\">\n",
       "      <th></th>\n",
       "      <th>packet_id</th>\n",
       "      <th>packet_duration</th>\n",
       "      <th>second_frame</th>\n",
       "      <th>src_ip</th>\n",
       "      <th>dest_ip</th>\n",
       "      <th>protocol</th>\n",
       "      <th>length</th>\n",
       "      <th>info</th>\n",
       "      <th>target</th>\n",
       "    </tr>\n",
       "  </thead>\n",
       "  <tbody>\n",
       "    <tr>\n",
       "      <th>0</th>\n",
       "      <td>PI_741404</td>\n",
       "      <td>0.047</td>\n",
       "      <td>SF_630318</td>\n",
       "      <td>fe80::212:7412:12:1212</td>\n",
       "      <td>fe80::212:7418:18:1818</td>\n",
       "      <td>ICMPv6</td>\n",
       "      <td>76</td>\n",
       "      <td>RPL Control (Destination Advertisement Object)</td>\n",
       "      <td>0</td>\n",
       "    </tr>\n",
       "    <tr>\n",
       "      <th>1</th>\n",
       "      <td>PI_237888</td>\n",
       "      <td>0.001</td>\n",
       "      <td>SF_367074</td>\n",
       "      <td>fe80::212:7443:43:4343</td>\n",
       "      <td>fe80::212:7411:11:1111</td>\n",
       "      <td>ICMPv6</td>\n",
       "      <td>76</td>\n",
       "      <td>RPL Control (Destination Advertisement Object)</td>\n",
       "      <td>1</td>\n",
       "    </tr>\n",
       "    <tr>\n",
       "      <th>2</th>\n",
       "      <td>PI_408771</td>\n",
       "      <td>0.009</td>\n",
       "      <td>SF_526833</td>\n",
       "      <td>fe80::212:7418:18:1818</td>\n",
       "      <td>fe80::212:7455:55:5555</td>\n",
       "      <td>ICMPv6</td>\n",
       "      <td>76</td>\n",
       "      <td>RPL Control (Destination Advertisement Object)</td>\n",
       "      <td>0</td>\n",
       "    </tr>\n",
       "    <tr>\n",
       "      <th>3</th>\n",
       "      <td>PI_101539</td>\n",
       "      <td>0.430</td>\n",
       "      <td>SF_935887</td>\n",
       "      <td>fe80::212:740b:b:b0b</td>\n",
       "      <td>fe80::212:7421:21:2121</td>\n",
       "      <td>ICMPv6</td>\n",
       "      <td>102</td>\n",
       "      <td>RPL Control (DODAG Information Object)</td>\n",
       "      <td>1</td>\n",
       "    </tr>\n",
       "    <tr>\n",
       "      <th>4</th>\n",
       "      <td>PI_199855</td>\n",
       "      <td>0.188</td>\n",
       "      <td>SF_272413</td>\n",
       "      <td>fe80::212:743a:3a:3a3a</td>\n",
       "      <td>fe80::212:7408:8:808</td>\n",
       "      <td>ICMPv6</td>\n",
       "      <td>76</td>\n",
       "      <td>RPL Control (Destination Advertisement Object)</td>\n",
       "      <td>0</td>\n",
       "    </tr>\n",
       "  </tbody>\n",
       "</table>\n",
       "</div>"
      ],
      "text/plain": [
       "   packet_id  packet_duration second_frame                  src_ip  \\\n",
       "0  PI_741404            0.047    SF_630318  fe80::212:7412:12:1212   \n",
       "1  PI_237888            0.001    SF_367074  fe80::212:7443:43:4343   \n",
       "2  PI_408771            0.009    SF_526833  fe80::212:7418:18:1818   \n",
       "3  PI_101539            0.430    SF_935887    fe80::212:740b:b:b0b   \n",
       "4  PI_199855            0.188    SF_272413  fe80::212:743a:3a:3a3a   \n",
       "\n",
       "                  dest_ip protocol  length  \\\n",
       "0  fe80::212:7418:18:1818   ICMPv6      76   \n",
       "1  fe80::212:7411:11:1111   ICMPv6      76   \n",
       "2  fe80::212:7455:55:5555   ICMPv6      76   \n",
       "3  fe80::212:7421:21:2121   ICMPv6     102   \n",
       "4    fe80::212:7408:8:808   ICMPv6      76   \n",
       "\n",
       "                                             info  target  \n",
       "0  RPL Control (Destination Advertisement Object)       0  \n",
       "1  RPL Control (Destination Advertisement Object)       1  \n",
       "2  RPL Control (Destination Advertisement Object)       0  \n",
       "3          RPL Control (DODAG Information Object)       1  \n",
       "4  RPL Control (Destination Advertisement Object)       0  "
      ]
     },
     "execution_count": 35,
     "metadata": {},
     "output_type": "execute_result"
    }
   ],
   "source": [
    "trainframe = pd.read_csv('Data/train_data.csv')\n",
    "trainframe.head()"
   ]
  },
  {
   "cell_type": "code",
   "execution_count": 36,
   "metadata": {},
   "outputs": [
    {
     "name": "stdout",
     "output_type": "stream",
     "text": [
      "<class 'pandas.core.frame.DataFrame'>\n",
      "RangeIndex: 11663 entries, 0 to 11662\n",
      "Data columns (total 9 columns):\n",
      " #   Column           Non-Null Count  Dtype  \n",
      "---  ------           --------------  -----  \n",
      " 0   packet_id        11663 non-null  object \n",
      " 1   packet_duration  11663 non-null  float64\n",
      " 2   second_frame     11663 non-null  object \n",
      " 3   src_ip           11576 non-null  object \n",
      " 4   dest_ip          11576 non-null  object \n",
      " 5   protocol         11663 non-null  object \n",
      " 6   length           11663 non-null  int64  \n",
      " 7   info             11663 non-null  object \n",
      " 8   target           11663 non-null  int64  \n",
      "dtypes: float64(1), int64(2), object(6)\n",
      "memory usage: 820.2+ KB\n"
     ]
    }
   ],
   "source": [
    "trainframe.info()"
   ]
  },
  {
   "cell_type": "code",
   "execution_count": 37,
   "metadata": {},
   "outputs": [
    {
     "data": {
      "text/plain": [
       "packet_id           0\n",
       "packet_duration     0\n",
       "second_frame        0\n",
       "src_ip             87\n",
       "dest_ip            87\n",
       "protocol            0\n",
       "length              0\n",
       "info                0\n",
       "target              0\n",
       "dtype: int64"
      ]
     },
     "execution_count": 37,
     "metadata": {},
     "output_type": "execute_result"
    }
   ],
   "source": [
    "trainframe.isnull().sum()"
   ]
  },
  {
   "cell_type": "code",
   "execution_count": 38,
   "metadata": {},
   "outputs": [
    {
     "data": {
      "text/plain": [
       "dest_ip\n",
       "ff02::1a                  1690\n",
       "2002:db8::ff:fe00:1       1300\n",
       "fe80::212:742b:2b:2b2b     367\n",
       "fe80::212:741c:1c:1c1c     323\n",
       "fe80::212:7434:34:3434     309\n",
       "                          ... \n",
       "fe80::212:7426:26:2626      13\n",
       "fe80::212:7419:19:1919      12\n",
       "fe80::212:7430:30:3030      11\n",
       "fe80::212:745a:5a:5a5a      10\n",
       "fe80::212:7443:43:4343       2\n",
       "Name: count, Length: 83, dtype: int64"
      ]
     },
     "execution_count": 38,
     "metadata": {},
     "output_type": "execute_result"
    }
   ],
   "source": [
    "trainframe['dest_ip'].value_counts()"
   ]
  },
  {
   "cell_type": "code",
   "execution_count": 39,
   "metadata": {},
   "outputs": [
    {
     "data": {
      "text/plain": [
       "src_ip\n",
       "fe80::212:7420:20:2020        239\n",
       "fe80::212:7425:25:2525        207\n",
       "fe80::212:7415:15:1515        206\n",
       "fe80::212:7405:5:505          196\n",
       "fe80::212:743e:3e:3e3e        195\n",
       "                             ... \n",
       "2002:db8::212:740d:d:d0d        5\n",
       "2002:db8::212:7422:22:2222      5\n",
       "2002:db8::212:7412:12:1212      5\n",
       "2002:db8::212:7407:7:707        5\n",
       "2002:db8::212:7419:19:1919      3\n",
       "Name: count, Length: 153, dtype: int64"
      ]
     },
     "execution_count": 39,
     "metadata": {},
     "output_type": "execute_result"
    }
   ],
   "source": [
    "trainframe['src_ip'].value_counts()"
   ]
  },
  {
   "cell_type": "code",
   "execution_count": 40,
   "metadata": {},
   "outputs": [],
   "source": [
    "def preprocessing(df):\n",
    "    df.drop(['packet_id','second_frame'], axis=1, inplace=True)\n"
   ]
  },
  {
   "cell_type": "code",
   "execution_count": 41,
   "metadata": {},
   "outputs": [],
   "source": [
    "preprocessing(trainframe)"
   ]
  },
  {
   "cell_type": "code",
   "execution_count": 42,
   "metadata": {},
   "outputs": [
    {
     "data": {
      "text/html": [
       "<div>\n",
       "<style scoped>\n",
       "    .dataframe tbody tr th:only-of-type {\n",
       "        vertical-align: middle;\n",
       "    }\n",
       "\n",
       "    .dataframe tbody tr th {\n",
       "        vertical-align: top;\n",
       "    }\n",
       "\n",
       "    .dataframe thead th {\n",
       "        text-align: right;\n",
       "    }\n",
       "</style>\n",
       "<table border=\"1\" class=\"dataframe\">\n",
       "  <thead>\n",
       "    <tr style=\"text-align: right;\">\n",
       "      <th></th>\n",
       "      <th>packet_duration</th>\n",
       "      <th>src_ip</th>\n",
       "      <th>dest_ip</th>\n",
       "      <th>protocol</th>\n",
       "      <th>length</th>\n",
       "      <th>info</th>\n",
       "      <th>target</th>\n",
       "    </tr>\n",
       "  </thead>\n",
       "  <tbody>\n",
       "    <tr>\n",
       "      <th>0</th>\n",
       "      <td>0.047</td>\n",
       "      <td>fe80::212:7412:12:1212</td>\n",
       "      <td>fe80::212:7418:18:1818</td>\n",
       "      <td>ICMPv6</td>\n",
       "      <td>76</td>\n",
       "      <td>RPL Control (Destination Advertisement Object)</td>\n",
       "      <td>0</td>\n",
       "    </tr>\n",
       "    <tr>\n",
       "      <th>1</th>\n",
       "      <td>0.001</td>\n",
       "      <td>fe80::212:7443:43:4343</td>\n",
       "      <td>fe80::212:7411:11:1111</td>\n",
       "      <td>ICMPv6</td>\n",
       "      <td>76</td>\n",
       "      <td>RPL Control (Destination Advertisement Object)</td>\n",
       "      <td>1</td>\n",
       "    </tr>\n",
       "    <tr>\n",
       "      <th>2</th>\n",
       "      <td>0.009</td>\n",
       "      <td>fe80::212:7418:18:1818</td>\n",
       "      <td>fe80::212:7455:55:5555</td>\n",
       "      <td>ICMPv6</td>\n",
       "      <td>76</td>\n",
       "      <td>RPL Control (Destination Advertisement Object)</td>\n",
       "      <td>0</td>\n",
       "    </tr>\n",
       "    <tr>\n",
       "      <th>3</th>\n",
       "      <td>0.430</td>\n",
       "      <td>fe80::212:740b:b:b0b</td>\n",
       "      <td>fe80::212:7421:21:2121</td>\n",
       "      <td>ICMPv6</td>\n",
       "      <td>102</td>\n",
       "      <td>RPL Control (DODAG Information Object)</td>\n",
       "      <td>1</td>\n",
       "    </tr>\n",
       "    <tr>\n",
       "      <th>4</th>\n",
       "      <td>0.188</td>\n",
       "      <td>fe80::212:743a:3a:3a3a</td>\n",
       "      <td>fe80::212:7408:8:808</td>\n",
       "      <td>ICMPv6</td>\n",
       "      <td>76</td>\n",
       "      <td>RPL Control (Destination Advertisement Object)</td>\n",
       "      <td>0</td>\n",
       "    </tr>\n",
       "  </tbody>\n",
       "</table>\n",
       "</div>"
      ],
      "text/plain": [
       "   packet_duration                  src_ip                 dest_ip protocol  \\\n",
       "0            0.047  fe80::212:7412:12:1212  fe80::212:7418:18:1818   ICMPv6   \n",
       "1            0.001  fe80::212:7443:43:4343  fe80::212:7411:11:1111   ICMPv6   \n",
       "2            0.009  fe80::212:7418:18:1818  fe80::212:7455:55:5555   ICMPv6   \n",
       "3            0.430    fe80::212:740b:b:b0b  fe80::212:7421:21:2121   ICMPv6   \n",
       "4            0.188  fe80::212:743a:3a:3a3a    fe80::212:7408:8:808   ICMPv6   \n",
       "\n",
       "   length                                            info  target  \n",
       "0      76  RPL Control (Destination Advertisement Object)       0  \n",
       "1      76  RPL Control (Destination Advertisement Object)       1  \n",
       "2      76  RPL Control (Destination Advertisement Object)       0  \n",
       "3     102          RPL Control (DODAG Information Object)       1  \n",
       "4      76  RPL Control (Destination Advertisement Object)       0  "
      ]
     },
     "execution_count": 42,
     "metadata": {},
     "output_type": "execute_result"
    }
   ],
   "source": [
    "trainframe.head()"
   ]
  },
  {
   "cell_type": "code",
   "execution_count": 43,
   "metadata": {},
   "outputs": [],
   "source": [
    "def split(df):\n",
    "    x_train = trainframe.drop('target', axis=1)\n",
    "    y_train = trainframe['target']\n",
    "    return x_train, y_train"
   ]
  },
  {
   "cell_type": "code",
   "execution_count": 44,
   "metadata": {},
   "outputs": [],
   "source": [
    "x_train, y_train = split(trainframe)"
   ]
  },
  {
   "cell_type": "code",
   "execution_count": null,
   "metadata": {},
   "outputs": [],
   "source": [
    "from sklearn.preprocessing import OrdinalEncoder\n",
    "tr=OrdinalEncoder()\n"
   ]
  }
 ],
 "metadata": {
  "kernelspec": {
   "display_name": "Python 3",
   "language": "python",
   "name": "python3"
  },
  "language_info": {
   "codemirror_mode": {
    "name": "ipython",
    "version": 3
   },
   "file_extension": ".py",
   "mimetype": "text/x-python",
   "name": "python",
   "nbconvert_exporter": "python",
   "pygments_lexer": "ipython3",
   "version": "3.10.12"
  }
 },
 "nbformat": 4,
 "nbformat_minor": 2
}
